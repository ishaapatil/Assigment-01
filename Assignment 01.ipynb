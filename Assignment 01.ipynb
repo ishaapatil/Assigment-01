{
 "cells": [
  {
   "cell_type": "raw",
   "id": "d85e86a1",
   "metadata": {},
   "source": [
    "Ans 01:\n",
    "* - expresssion\n",
    "'hello' -value\n",
    "-87.8 - value\n",
    "- - expression\n",
    "/ -expression\n",
    "+ -expression\n",
    "6 - value"
   ]
  },
  {
   "cell_type": "raw",
   "id": "4a03ef85",
   "metadata": {},
   "source": [
    "Ans 02:\n",
    "In variable we use alphabets,numbers and underscroll but in string we have to use only group of letters.\n",
    "String is written in single/ Double qouted form whereas variable is written without quotes"
   ]
  },
  {
   "cell_type": "raw",
   "id": "b8629a80",
   "metadata": {},
   "source": [
    "Ans 03:\n",
    "int - Integer is a whole number with a range of values. It consists of 2 bytes.\n",
    "float - float is a decimal point numbers.it consists of 4 bytes.\n",
    "char - A Single character can be defined as a character (char) type data . It consists of 1 byte."
   ]
  },
  {
   "cell_type": "raw",
   "id": "543c26fd",
   "metadata": {},
   "source": [
    "Ans 04:\n",
    "An Expression is made up of values,variables ,operators and calls to functions.\n",
    "It prints an expression ,the interpreter evaluates yhe expresssion and displays the result. "
   ]
  },
  {
   "cell_type": "raw",
   "id": "a534d794",
   "metadata": {},
   "source": [
    "Ans 05:\n",
    "In Assignment Statement ,the right hand side value is assigned to the left side\n",
    "An Expression is made up of values,variables ,operators and calls to functions.\n"
   ]
  },
  {
   "cell_type": "raw",
   "id": "5382e7bd",
   "metadata": {},
   "source": [
    "Ans 06:\n",
    "It contains 23.\n"
   ]
  },
  {
   "cell_type": "raw",
   "id": "993208c6",
   "metadata": {},
   "source": [
    "Ans 07:\n",
    "both the terms will give the same output i.e 'spamspamspam'"
   ]
  },
  {
   "cell_type": "raw",
   "id": "3720a0b4",
   "metadata": {},
   "source": [
    "Ans 08:\n",
    "eggs is a valid varaiable but 100 is not becuase variable does not starts with a numbers or digit."
   ]
  },
  {
   "cell_type": "raw",
   "id": "b4a6f2ed",
   "metadata": {},
   "source": [
    "Ans 09:\n",
    "Integer ,float or string functions can be used to get the integer, floating point numbers or string."
   ]
  },
  {
   "cell_type": "raw",
   "id": "e158cc22",
   "metadata": {},
   "source": [
    "Ans 10:\n",
    "it can only concatenate str(not \"int\") to str"
   ]
  },
  {
   "cell_type": "code",
   "execution_count": null,
   "id": "88fb0f0f",
   "metadata": {},
   "outputs": [],
   "source": []
  }
 ],
 "metadata": {
  "kernelspec": {
   "display_name": "Python 3 (ipykernel)",
   "language": "python",
   "name": "python3"
  },
  "language_info": {
   "codemirror_mode": {
    "name": "ipython",
    "version": 3
   },
   "file_extension": ".py",
   "mimetype": "text/x-python",
   "name": "python",
   "nbconvert_exporter": "python",
   "pygments_lexer": "ipython3",
   "version": "3.9.7"
  }
 },
 "nbformat": 4,
 "nbformat_minor": 5
}
