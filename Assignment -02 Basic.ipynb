{
 "cells": [
  {
   "cell_type": "raw",
   "id": "2fddb141",
   "metadata": {},
   "source": [
    "Ans 01:\n",
    "    The two values of the boolean data type are true or false.\n",
    "    We write them as true or false,yes or no,1 or 0."
   ]
  },
  {
   "cell_type": "raw",
   "id": "ca2cc3a5",
   "metadata": {},
   "source": [
    "Ans 02:\n",
    "    AND ,OR and NOT."
   ]
  },
  {
   "cell_type": "raw",
   "id": "87761144",
   "metadata": {},
   "source": [
    "Ans 03:\n",
    "    AND          OR           NOT\n",
    " \n",
    " T  T  T     T  T  T      T  T  F\n",
    " T  F  F     T  F  T      T  F  F\n",
    " F  T  F     F  T  T      F  T  T\n",
    " F  F  F     F  F  F      F  F  T"
   ]
  },
  {
   "cell_type": "raw",
   "id": "4b7716ab",
   "metadata": {},
   "source": [
    "Ans 04:\n",
    "1. (5>4) and (3==5)  F\n",
    "2. not(5>4)          F\n",
    "3. (5>4) or (3==5)   T\n",
    "4. not((5>4) or (3==5) F\n",
    "5. (not false) or (not true)  T\n",
    "    "
   ]
  },
  {
   "cell_type": "raw",
   "id": "7edc38d5",
   "metadata": {},
   "source": [
    "Ans 05:\n",
    "    not equal to !=\n",
    "    less than equal to <=\n",
    "    greater than equal to >=\n",
    "    less than <\n",
    "    greater than >\n",
    "    equal to =="
   ]
  },
  {
   "cell_type": "raw",
   "id": "3e9e50bd",
   "metadata": {},
   "source": [
    "Ans 06:\n",
    "    Assignment operator is used for assigning the values to a variables.\n",
    "    Equal to operator is used for comparing two values.\n",
    "    "
   ]
  },
  {
   "cell_type": "raw",
   "id": "89d3408f",
   "metadata": {},
   "source": [
    "Ans 07:\n",
    "    The three blocks are if ,if and else.\n",
    "\n",
    "spam =0\n",
    "if spam ==10:\n",
    "    \n",
    "    print(\"eggs\")\n",
    "if spam>5:\n",
    "    print(\"bacon\")\n",
    "else:\n",
    "    print(\"ham\")\n",
    "    print(\"spam\")\n",
    "    print(\"spam\")"
   ]
  },
  {
   "cell_type": "markdown",
   "id": "00fc137e",
   "metadata": {},
   "source": [
    "Ans 08:\n",
    "\n",
    "spam = 0\n",
    "if spam==1:\n",
    "    print(\"hello\")\n",
    "if spam==2:\n",
    "    print(\"howdy\")\n",
    "else:\n",
    "    print(\"Greetings!\")"
   ]
  },
  {
   "cell_type": "raw",
   "id": "aa147a7a",
   "metadata": {},
   "source": [
    "spam = 1\n",
    "if spam==1:\n",
    "    print(\"hello\")\n",
    "if spam==2:\n",
    "    print(\"howdy\")\n",
    "else:\n",
    "    print(\"Greetings!\")"
   ]
  },
  {
   "cell_type": "raw",
   "id": "a9abd91a",
   "metadata": {},
   "source": [
    "spam = 2\n",
    "if spam==1:\n",
    "    print(\"hello\")\n",
    "if spam==2:\n",
    "    print(\"howdy\")\n",
    "else:\n",
    "    print(\"Greetings!\")"
   ]
  },
  {
   "cell_type": "raw",
   "id": "34d07206",
   "metadata": {},
   "source": [
    "Ans 09:\n",
    "We will press Ctrl-C"
   ]
  },
  {
   "cell_type": "raw",
   "id": "db7309e0",
   "metadata": {},
   "source": [
    "Ans 10:\n",
    "    break-When a break statement is encountered then the control is exited from the loop.\n",
    "    continue- When a continue statement is encountered then the control automatically passed from the beginning of the loop     statement."
   ]
  },
  {
   "cell_type": "raw",
   "id": "89b96b51",
   "metadata": {},
   "source": [
    "Ans 11:\n",
    " In a for loop, range(10)-It print numbers from 0 to 9.\n",
    " range(0,10)- It will print numbers from 0 to 9.\n",
    " range(0,10,1)- it will also prints the same, there is no such difference in it.\n",
    "    "
   ]
  },
  {
   "cell_type": "raw",
   "id": "80af232f",
   "metadata": {},
   "source": [
    "Ans 12:"
   ]
  },
  {
   "cell_type": "raw",
   "id": "2acbdcd9",
   "metadata": {},
   "source": [
    "for i in range(1,11):\n",
    "    print(i)\n",
    "    "
   ]
  },
  {
   "cell_type": "raw",
   "id": "10a5c4e7",
   "metadata": {},
   "source": [
    "i =1\n",
    "while (i<=10):\n",
    "\n",
    "    print(i)\n",
    "    i +=1"
   ]
  },
  {
   "cell_type": "raw",
   "id": "f679de60",
   "metadata": {},
   "source": [
    "Ans 13:\n",
    "     The function will called by spam.bacon()"
   ]
  },
  {
   "cell_type": "code",
   "execution_count": null,
   "id": "cf8d5c54",
   "metadata": {},
   "outputs": [],
   "source": []
  }
 ],
 "metadata": {
  "kernelspec": {
   "display_name": "Python 3 (ipykernel)",
   "language": "python",
   "name": "python3"
  },
  "language_info": {
   "codemirror_mode": {
    "name": "ipython",
    "version": 3
   },
   "file_extension": ".py",
   "mimetype": "text/x-python",
   "name": "python",
   "nbconvert_exporter": "python",
   "pygments_lexer": "ipython3",
   "version": "3.9.7"
  }
 },
 "nbformat": 4,
 "nbformat_minor": 5
}
