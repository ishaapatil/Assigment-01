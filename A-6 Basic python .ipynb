{
 "cells": [
  {
   "cell_type": "raw",
   "id": "4fedab81",
   "metadata": {},
   "source": [
    "Ans:01\n",
    "In Python strings, the backslash \"\\\" is a special character, also called the \"escape\" character\n",
    "To insert characters that are illegal in a string, use an escape character. An escape character is a backslash \\ followed by the character you want to insert.\n",
    "Escape characters represent characters in string values that would otherwise be difficult or impossible to type into code"
   ]
  },
  {
   "cell_type": "raw",
   "id": "ec37d535",
   "metadata": {},
   "source": [
    "Ans:02\n",
    "\"\\t\" is a tab, \"\\n\" is a newline ."
   ]
  },
  {
   "cell_type": "raw",
   "id": "e72bda78",
   "metadata": {},
   "source": [
    "Ans:03\n",
    "If you want an actual backslash in the string or regex, you have to write two: \\\\ "
   ]
  },
  {
   "cell_type": "raw",
   "id": "b6469987",
   "metadata": {},
   "source": [
    "Ans:04\n",
    "The single quote in Howl's is fine because you've used double quotes to mark the beginning and end of the string.\n"
   ]
  },
  {
   "cell_type": "raw",
   "id": "6d64eddf",
   "metadata": {},
   "source": [
    "Ans:05\n",
    "Multiline strings allow you to use newlines in strings without the \\n escape character."
   ]
  },
  {
   "cell_type": "raw",
   "id": "0d23d8ca",
   "metadata": {},
   "source": [
    "Ans:06\n",
    "The expressions evaluate to the following:\n",
    "\n",
    "'e'\n",
    "\n",
    "'Hello'\n",
    "\n",
    "'Hello'\n",
    "\n",
    "'lo world!\n"
   ]
  },
  {
   "cell_type": "raw",
   "id": "28eb5827",
   "metadata": {},
   "source": [
    "Ans:07\n",
    "The expressions evaluate to the following:\n",
    "\n",
    "'HELLO'\n",
    "\n",
    "True\n",
    "\n",
    "'hello'"
   ]
  },
  {
   "cell_type": "raw",
   "id": "1f196120",
   "metadata": {},
   "source": [
    "Ans:08\n",
    "The expressions evaluate to the following:\n",
    "\n",
    "['Remember,', 'remember,', 'the', 'fifth', 'of', 'November.']\n",
    "\n",
    "'There-can-be-only-one.\n"
   ]
  },
  {
   "cell_type": "raw",
   "id": "7599a56d",
   "metadata": {},
   "source": [
    "Ans:09\n",
    "The rjust(), ljust(), and center() string methods, respectively"
   ]
  },
  {
   "cell_type": "raw",
   "id": "777c782b",
   "metadata": {},
   "source": [
    "Ans:10\n",
    "The lstrip() and rstrip() methods remove whitespace from the left and right ends of a string, respectively.\n"
   ]
  }
 ],
 "metadata": {
  "kernelspec": {
   "display_name": "Python 3 (ipykernel)",
   "language": "python",
   "name": "python3"
  },
  "language_info": {
   "codemirror_mode": {
    "name": "ipython",
    "version": 3
   },
   "file_extension": ".py",
   "mimetype": "text/x-python",
   "name": "python",
   "nbconvert_exporter": "python",
   "pygments_lexer": "ipython3",
   "version": "3.9.12"
  }
 },
 "nbformat": 4,
 "nbformat_minor": 5
}
