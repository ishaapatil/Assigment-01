{
 "cells": [
  {
   "cell_type": "raw",
   "id": "e13a8c32",
   "metadata": {},
   "source": [
    "Ans:01\n",
    " re.compile()"
   ]
  },
  {
   "cell_type": "raw",
   "id": "2ccafb98",
   "metadata": {},
   "source": [
    "Ans:02\n",
    "So you don't have to escape backslashes. For example, instead of needing to use '\\\\d' for a digit, you can instead use r'\\d'."
   ]
  },
  {
   "cell_type": "raw",
   "id": "27ab7897",
   "metadata": {},
   "source": [
    "Ans:03\n",
    "Either a Match object containing the first occurrence of a regular expression, or None."
   ]
  },
  {
   "cell_type": "raw",
   "id": "17a3a5cb",
   "metadata": {},
   "source": [
    "Ans:04\n",
    "By calling the group method on the Match object.\n"
   ]
  },
  {
   "cell_type": "raw",
   "id": "607cfb5b",
   "metadata": {},
   "source": [
    "Ans:05\n",
    "        group 0 covers the whole matching text, for example '555-555-5555'\n",
    "        group 1 covers the group in the first set of parentheses, for example '555'\n",
    "        group 2 covers the group in the second set of parentheses, for example '555-5555'"
   ]
  },
  {
   "cell_type": "raw",
   "id": "1e5054cc",
   "metadata": {},
   "source": [
    "Ans:06\n",
    "You could escape these characters:\n",
    "\\(\n",
    "\\)\n",
    "\\."
   ]
  },
  {
   "cell_type": "raw",
   "id": "f73830ac",
   "metadata": {},
   "source": [
    "Ans:07\n",
    "If you use grouping parentheses, (), in the regular expression it will return a list of tuples. If you don't use groups, it will return a list of strings.\n",
    "\n"
   ]
  },
  {
   "cell_type": "raw",
   "id": "14a4edcb",
   "metadata": {},
   "source": [
    "Ans:08\n",
    "It signifies Boolean or"
   ]
  },
  {
   "cell_type": "raw",
   "id": "552ea356",
   "metadata": {},
   "source": [
    "Ans:09\n",
    " It can signify that part of a regular expression is optional (i.e., it occurs 0 or 1 times), or that nongreedy matching should be used.\n"
   ]
  },
  {
   "cell_type": "raw",
   "id": "443e9798",
   "metadata": {},
   "source": [
    "Ans:10\n",
    "       + means match one or more times. \n",
    "       * means match 0 or more times."
   ]
  },
  {
   "cell_type": "raw",
   "id": "720f0604",
   "metadata": {},
   "source": [
    "Ans:11\n",
    "          {4} means match exactly 3 times.\n",
    "          {4,5} means match  4 or 5 times."
   ]
  },
  {
   "cell_type": "raw",
   "id": "5757a9af",
   "metadata": {},
   "source": [
    "Ans:12\n",
    "        \\d stands for a numeric digit.\n",
    "        \\w stands for any letter, numeric digit, or the underscore character.\n",
    "        \\s stands for any space, tab, or newline character."
   ]
  },
  {
   "cell_type": "raw",
   "id": "6e005a62",
   "metadata": {},
   "source": [
    "Ans:13\n",
    "         \\D stands for any character that is not a numeric digit.\n",
    "         \\W stands for any character that is not a letter, digit, or underscore.\n",
    "         \\S stands for any character that is not a space, tab, or newline."
   ]
  },
  {
   "cell_type": "raw",
   "id": "8082895f",
   "metadata": {},
   "source": [
    "Ans:14\n",
    "    .* uses greedy matching.\n",
    "    .*? is the nongreedy version."
   ]
  },
  {
   "cell_type": "raw",
   "id": "25038031",
   "metadata": {},
   "source": [
    "Ans :15\n",
    "[a-z0-9]\n"
   ]
  },
  {
   "cell_type": "raw",
   "id": "62e76e89",
   "metadata": {},
   "source": [
    "Ans:16\n",
    " use the re.IGNORECASE (or re.I) argument in re.compile()."
   ]
  },
  {
   "cell_type": "raw",
   "id": "80676d26",
   "metadata": {},
   "source": [
    "Ans:17\n",
    ". normally matches any one character except the newline.\n",
    " If the re.DOTALL argument is used, a . matches any one character including the newline."
   ]
  },
  {
   "cell_type": "raw",
   "id": "e4dc4924",
   "metadata": {},
   "source": [
    "Ans:18\n",
    "'X drummers, X pipers, five rings, X hens'"
   ]
  },
  {
   "cell_type": "raw",
   "id": "8e2f3de8",
   "metadata": {},
   "source": [
    "Ans :19\n",
    "It allows you to ignore white space and comments in the regular expression string."
   ]
  },
  {
   "cell_type": "raw",
   "id": "608474c0",
   "metadata": {},
   "source": [
    "Ans:20\n",
    " r'((^\\d{1,3},)(\\d{3},)*\\d{3}$)|(^\\d{,3}$)' or r'^\\d{1,3}(,\\d{3})*$'"
   ]
  },
  {
   "cell_type": "raw",
   "id": "47217f44",
   "metadata": {},
   "source": [
    "Ans:21\n",
    "r'[A-Z][a-z]* Watanabe '"
   ]
  },
  {
   "cell_type": "raw",
   "id": "4d13a2e0",
   "metadata": {},
   "source": [
    "Ans:22\n",
    "re.compile(r'(Alice|Bob|Carol) (eats|pets|throws) (apples|cats|baseballs)\\.', re.IGNORECASE)"
   ]
  }
 ],
 "metadata": {
  "kernelspec": {
   "display_name": "Python 3 (ipykernel)",
   "language": "python",
   "name": "python3"
  },
  "language_info": {
   "codemirror_mode": {
    "name": "ipython",
    "version": 3
   },
   "file_extension": ".py",
   "mimetype": "text/x-python",
   "name": "python",
   "nbconvert_exporter": "python",
   "pygments_lexer": "ipython3",
   "version": "3.9.12"
  }
 },
 "nbformat": 4,
 "nbformat_minor": 5
}
