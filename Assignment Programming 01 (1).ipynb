{
 "cells": [
  {
   "cell_type": "code",
   "execution_count": 9,
   "id": "ba65b3a9",
   "metadata": {},
   "outputs": [
    {
     "name": "stdout",
     "output_type": "stream",
     "text": [
      "Hello Python\n"
     ]
    }
   ],
   "source": [
    "print(\"Hello Python\")"
   ]
  },
  {
   "cell_type": "raw",
   "id": "a112b09d",
   "metadata": {},
   "source": [
    "Ans:2"
   ]
  },
  {
   "cell_type": "code",
   "execution_count": 5,
   "id": "58434854",
   "metadata": {},
   "outputs": [
    {
     "name": "stdout",
     "output_type": "stream",
     "text": [
      "Addition of two numbers : 90\n",
      "Division of two numbers : 1.6470588235294117\n"
     ]
    }
   ],
   "source": [
    "a=56\n",
    "b=34\n",
    "c=0\n",
    "\n",
    "c=a+b\n",
    "print(\"Addition of two numbers :\" ,c)\n",
    "c=a/b\n",
    "print(\"Division of two numbers :\",c)"
   ]
  },
  {
   "cell_type": "code",
   "execution_count": 8,
   "id": "c2a1c420",
   "metadata": {},
   "outputs": [
    {
     "name": "stdout",
     "output_type": "stream",
     "text": [
      "Enter the first number:6\n",
      "Enter the second number:9\n",
      "The Summation of a and b is : 15\n",
      "Division of a and b is : 0.6666666666666666\n"
     ]
    }
   ],
   "source": [
    "a=input(\"Enter the first number:\")\n",
    "b=input(\"Enter the second number:\")\n",
    "\n",
    "c=int(a)+int(b)\n",
    "print(\"The Summation of a and b is :\",c)\n",
    "\n",
    "c=float(a)/float(b)\n",
    "print(\"Division of a and b is :\",c)"
   ]
  },
  {
   "cell_type": "raw",
   "id": "d23f3f5a",
   "metadata": {},
   "source": [
    "Ans:03"
   ]
  },
  {
   "cell_type": "code",
   "execution_count": 12,
   "id": "fd64c4b2",
   "metadata": {},
   "outputs": [
    {
     "name": "stdout",
     "output_type": "stream",
     "text": [
      "Enter the base of triangle:23\n",
      "Enter the height of triangle:4\n",
      "Area of the Triangle: 46.0\n"
     ]
    }
   ],
   "source": [
    "base=input(\"Enter the base of triangle:\")\n",
    "height=input(\"Enter the height of triangle:\")\n",
    "area=0.5*float(base)*float(height)\n",
    "print(\"Area of the Triangle:\" ,area)"
   ]
  },
  {
   "cell_type": "raw",
   "id": "ab451acb",
   "metadata": {},
   "source": [
    "Ans:04\n"
   ]
  },
  {
   "cell_type": "code",
   "execution_count": 13,
   "id": "c320ccaf",
   "metadata": {},
   "outputs": [
    {
     "name": "stdout",
     "output_type": "stream",
     "text": [
      "Enter the first number:5\n",
      "Enter the Second number:7\n",
      "The value after Swapping  : 7\n",
      "The value after Swapping : 5\n"
     ]
    }
   ],
   "source": [
    "num1=input(\"Enter the first number:\")\n",
    "num2=input(\"Enter the Second number:\")\n",
    "\n",
    "\n",
    "num3=num1\n",
    "num1=num2\n",
    "num2=num3\n",
    "\n",
    "print(\"The value after Swapping  :\",num1)\n",
    "print(\"The value after Swapping :\",num2)"
   ]
  },
  {
   "cell_type": "raw",
   "id": "b985e355",
   "metadata": {},
   "source": [
    "Ans:05"
   ]
  },
  {
   "cell_type": "code",
   "execution_count": 16,
   "id": "fe87e65a",
   "metadata": {},
   "outputs": [
    {
     "name": "stdout",
     "output_type": "stream",
     "text": [
      "44\n"
     ]
    }
   ],
   "source": [
    "import random\n",
    "print(random.randint(0,50))"
   ]
  },
  {
   "cell_type": "code",
   "execution_count": null,
   "id": "40e9c862",
   "metadata": {},
   "outputs": [],
   "source": []
  }
 ],
 "metadata": {
  "kernelspec": {
   "display_name": "Python 3 (ipykernel)",
   "language": "python",
   "name": "python3"
  },
  "language_info": {
   "codemirror_mode": {
    "name": "ipython",
    "version": 3
   },
   "file_extension": ".py",
   "mimetype": "text/x-python",
   "name": "python",
   "nbconvert_exporter": "python",
   "pygments_lexer": "ipython3",
   "version": "3.9.7"
  }
 },
 "nbformat": 4,
 "nbformat_minor": 5
}
